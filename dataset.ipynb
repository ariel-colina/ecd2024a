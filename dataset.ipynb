{
 "cells": [
  {
   "cell_type": "markdown",
   "metadata": {},
   "source": [
    "# Clasificador de señales"
   ]
  },
  {
   "cell_type": "code",
   "execution_count": 67,
   "metadata": {},
   "outputs": [],
   "source": [
    "# coding: latin-1\n",
    "import pandas as pd\n",
    "import numpy as np\n",
    "import matplotlib.pyplot as plt"
   ]
  },
  {
   "cell_type": "code",
   "execution_count": 68,
   "metadata": {},
   "outputs": [],
   "source": [
    "baseline = pd.read_csv('data/dataset_2024/baseline.dat', delimiter=' ', names = ['timestamp','counter','eeg','attention','meditation','blinking'])"
   ]
  },
  {
   "cell_type": "markdown",
   "metadata": {},
   "source": [
    "Hacemos un Head para ver el dataset baseline"
   ]
  },
  {
   "cell_type": "code",
   "execution_count": 69,
   "metadata": {},
   "outputs": [
    {
     "name": "stdout",
     "output_type": "stream",
     "text": [
      "Estructura de la informacion:\n",
      "          timestamp  counter  eeg  attention  meditation  blinking\n",
      "0      1.732232e+09       88   96          0           0         0\n",
      "1      1.732232e+09       89   74          0           0         0\n",
      "2      1.732232e+09       90   42          0           0         0\n",
      "3      1.732232e+09       91   36          0           0         0\n",
      "4      1.732232e+09       92   38          0           0         0\n",
      "...             ...      ...  ...        ...         ...       ...\n",
      "30845  1.732232e+09       73   23        100          56         0\n",
      "30846  1.732232e+09       74   22        100          56         0\n",
      "30847  1.732232e+09       75   11        100          56         0\n",
      "30848  1.732232e+09       76    3        100          56         0\n",
      "30849  1.732232e+09       77   12        100          56         0\n",
      "\n",
      "[30850 rows x 6 columns]\n"
     ]
    }
   ],
   "source": [
    "print('Estructura de la informacion:')\n",
    "print(baseline)"
   ]
  },
  {
   "cell_type": "markdown",
   "metadata": {},
   "source": [
    "Analizamos la cantidad de columnas y registros"
   ]
  },
  {
   "cell_type": "code",
   "execution_count": 70,
   "metadata": {},
   "outputs": [
    {
     "name": "stdout",
     "output_type": "stream",
     "text": [
      "<class 'pandas.core.frame.DataFrame'>\n",
      "RangeIndex: 30850 entries, 0 to 30849\n",
      "Data columns (total 6 columns):\n",
      " #   Column      Non-Null Count  Dtype  \n",
      "---  ------      --------------  -----  \n",
      " 0   timestamp   30850 non-null  float64\n",
      " 1   counter     30850 non-null  int64  \n",
      " 2   eeg         30850 non-null  int64  \n",
      " 3   attention   30850 non-null  int64  \n",
      " 4   meditation  30850 non-null  int64  \n",
      " 5   blinking    30850 non-null  int64  \n",
      "dtypes: float64(1), int64(5)\n",
      "memory usage: 1.4 MB\n"
     ]
    }
   ],
   "source": [
    "baseline.info()"
   ]
  },
  {
   "cell_type": "markdown",
   "metadata": {},
   "source": [
    "No se observan Nulls"
   ]
  },
  {
   "cell_type": "code",
   "execution_count": 71,
   "metadata": {},
   "outputs": [
    {
     "data": {
      "text/html": [
       "<div>\n",
       "<style scoped>\n",
       "    .dataframe tbody tr th:only-of-type {\n",
       "        vertical-align: middle;\n",
       "    }\n",
       "\n",
       "    .dataframe tbody tr th {\n",
       "        vertical-align: top;\n",
       "    }\n",
       "\n",
       "    .dataframe thead th {\n",
       "        text-align: right;\n",
       "    }\n",
       "</style>\n",
       "<table border=\"1\" class=\"dataframe\">\n",
       "  <thead>\n",
       "    <tr style=\"text-align: right;\">\n",
       "      <th></th>\n",
       "      <th>timestamp</th>\n",
       "      <th>counter</th>\n",
       "      <th>eeg</th>\n",
       "      <th>attention</th>\n",
       "      <th>meditation</th>\n",
       "      <th>blinking</th>\n",
       "    </tr>\n",
       "  </thead>\n",
       "  <tbody>\n",
       "    <tr>\n",
       "      <th>count</th>\n",
       "      <td>3.085000e+04</td>\n",
       "      <td>30850.000000</td>\n",
       "      <td>30850.00000</td>\n",
       "      <td>30850.000000</td>\n",
       "      <td>30850.000000</td>\n",
       "      <td>30850.0</td>\n",
       "    </tr>\n",
       "    <tr>\n",
       "      <th>mean</th>\n",
       "      <td>1.732232e+09</td>\n",
       "      <td>49.489303</td>\n",
       "      <td>30.69128</td>\n",
       "      <td>60.661264</td>\n",
       "      <td>56.939773</td>\n",
       "      <td>0.0</td>\n",
       "    </tr>\n",
       "    <tr>\n",
       "      <th>std</th>\n",
       "      <td>1.732259e+01</td>\n",
       "      <td>28.861460</td>\n",
       "      <td>48.72812</td>\n",
       "      <td>24.832033</td>\n",
       "      <td>19.328587</td>\n",
       "      <td>0.0</td>\n",
       "    </tr>\n",
       "    <tr>\n",
       "      <th>min</th>\n",
       "      <td>1.732232e+09</td>\n",
       "      <td>0.000000</td>\n",
       "      <td>-488.00000</td>\n",
       "      <td>0.000000</td>\n",
       "      <td>0.000000</td>\n",
       "      <td>0.0</td>\n",
       "    </tr>\n",
       "    <tr>\n",
       "      <th>25%</th>\n",
       "      <td>1.732232e+09</td>\n",
       "      <td>25.000000</td>\n",
       "      <td>7.00000</td>\n",
       "      <td>44.000000</td>\n",
       "      <td>47.000000</td>\n",
       "      <td>0.0</td>\n",
       "    </tr>\n",
       "    <tr>\n",
       "      <th>50%</th>\n",
       "      <td>1.732232e+09</td>\n",
       "      <td>49.000000</td>\n",
       "      <td>32.00000</td>\n",
       "      <td>63.000000</td>\n",
       "      <td>57.000000</td>\n",
       "      <td>0.0</td>\n",
       "    </tr>\n",
       "    <tr>\n",
       "      <th>75%</th>\n",
       "      <td>1.732232e+09</td>\n",
       "      <td>74.000000</td>\n",
       "      <td>54.00000</td>\n",
       "      <td>81.000000</td>\n",
       "      <td>66.000000</td>\n",
       "      <td>0.0</td>\n",
       "    </tr>\n",
       "    <tr>\n",
       "      <th>max</th>\n",
       "      <td>1.732232e+09</td>\n",
       "      <td>99.000000</td>\n",
       "      <td>793.00000</td>\n",
       "      <td>100.000000</td>\n",
       "      <td>90.000000</td>\n",
       "      <td>0.0</td>\n",
       "    </tr>\n",
       "  </tbody>\n",
       "</table>\n",
       "</div>"
      ],
      "text/plain": [
       "          timestamp       counter          eeg     attention    meditation  \\\n",
       "count  3.085000e+04  30850.000000  30850.00000  30850.000000  30850.000000   \n",
       "mean   1.732232e+09     49.489303     30.69128     60.661264     56.939773   \n",
       "std    1.732259e+01     28.861460     48.72812     24.832033     19.328587   \n",
       "min    1.732232e+09      0.000000   -488.00000      0.000000      0.000000   \n",
       "25%    1.732232e+09     25.000000      7.00000     44.000000     47.000000   \n",
       "50%    1.732232e+09     49.000000     32.00000     63.000000     57.000000   \n",
       "75%    1.732232e+09     74.000000     54.00000     81.000000     66.000000   \n",
       "max    1.732232e+09     99.000000    793.00000    100.000000     90.000000   \n",
       "\n",
       "       blinking  \n",
       "count   30850.0  \n",
       "mean        0.0  \n",
       "std         0.0  \n",
       "min         0.0  \n",
       "25%         0.0  \n",
       "50%         0.0  \n",
       "75%         0.0  \n",
       "max         0.0  "
      ]
     },
     "execution_count": 71,
     "metadata": {},
     "output_type": "execute_result"
    }
   ],
   "source": [
    "baseline.describe()"
   ]
  },
  {
   "cell_type": "code",
   "execution_count": 72,
   "metadata": {},
   "outputs": [
    {
     "name": "stdout",
     "output_type": "stream",
     "text": [
      "[96. 74. 42. ... 11.  3. 12.]\n"
     ]
    }
   ],
   "source": [
    "data_bl = baseline.values\n",
    "eeg_bl = data_bl[:,2]\n",
    "\n",
    "print(eeg_bl)"
   ]
  },
  {
   "cell_type": "markdown",
   "metadata": {},
   "source": [
    "Analizamos el campo counter, que indica la numeración de tramas (el sensor envia señales en tramas y las enumera del 0 al 99 y vuelve a iniciar)"
   ]
  },
  {
   "cell_type": "code",
   "execution_count": 73,
   "metadata": {},
   "outputs": [
    {
     "name": "stdout",
     "output_type": "stream",
     "text": [
      "[88. 89. 90. ... 75. 76. 77.]\n"
     ]
    }
   ],
   "source": [
    "counter_bl = data_bl[:,1]\n",
    "print(counter_bl)"
   ]
  },
  {
   "cell_type": "markdown",
   "metadata": {},
   "source": [
    "Determinamos si la secuencia de la enumeración es la correcta:"
   ]
  },
  {
   "cell_type": "code",
   "execution_count": 74,
   "metadata": {},
   "outputs": [],
   "source": [
    "def es_secuencial(arr): \n",
    "    # Verificar si la longitud del array es menor que 2 \n",
    "    if len(arr) < 2: \n",
    "        return True # Un array con 0 o 1 elementos es secuencial por definición \n",
    "    # Verificar si cada elemento es uno más que el anterior \n",
    "    for i in range(1, len(arr)):\n",
    "        if arr[i] != arr[i - 1] + 1:\n",
    "            return False # Si se encuentra un elemento que no sigue la secuencia, retorna False\n",
    "    \n",
    "    return True # Si pasa todas las verificaciones, retorna True"
   ]
  },
  {
   "cell_type": "code",
   "execution_count": 75,
   "metadata": {},
   "outputs": [
    {
     "name": "stdout",
     "output_type": "stream",
     "text": [
      "False\n"
     ]
    }
   ],
   "source": [
    "print(es_secuencial(counter_bl))"
   ]
  },
  {
   "cell_type": "markdown",
   "metadata": {},
   "source": [
    "Esto indica que se perdieron datos."
   ]
  },
  {
   "cell_type": "code",
   "execution_count": 76,
   "metadata": {},
   "outputs": [
    {
     "name": "stdout",
     "output_type": "stream",
     "text": [
      "[[88. 89. 90. ... 75. 76. 77.]\n",
      " [96. 74. 42. ... 11.  3. 12.]]\n"
     ]
    }
   ],
   "source": [
    "counter_eeg_bl = np.array([counter_bl,eeg_bl])\n",
    "print(counter_eeg_bl)"
   ]
  },
  {
   "cell_type": "markdown",
   "metadata": {},
   "source": [
    "Se observa que la secuencia de numeracion de las tramsa NO es correcta, es decir, que falta o se perdío algun dato."
   ]
  },
  {
   "cell_type": "markdown",
   "metadata": {},
   "source": [
    "La frecuencia de sampleo del baseline es de 512 Hz"
   ]
  },
  {
   "cell_type": "code",
   "execution_count": 77,
   "metadata": {},
   "outputs": [
    {
     "data": {
      "image/png": "[encoded data removed]",
      "text/plain": [
       "<Figure size 640x480 with 1 Axes>"
      ]
     },
     "metadata": {},
     "output_type": "display_data"
    }
   ],
   "source": [
    "plt.plot(eeg_bl,'r', label='EEG')\n",
    "plt.xlabel('t');\n",
    "plt.ylabel('eeg(t)');\n",
    "plt.title(r'EEG baseline')     # r'' representa un raw string que no tiene caracteres especiales\n",
    "plt.ylim([-2000, 2000]);\n",
    "plt.xlim([0,len(eeg_bl)])\n",
    "plt.show()"
   ]
  },
  {
   "cell_type": "markdown",
   "metadata": {},
   "source": [
    "### Analizamos el dataset deathmetal"
   ]
  },
  {
   "cell_type": "code",
   "execution_count": 78,
   "metadata": {},
   "outputs": [],
   "source": [
    "deathmetal = pd.read_csv('data/dataset_2024/deathmetal.dat', delimiter=' ', names = ['timestamp','counter','eeg','attention','meditation','blinking'])"
   ]
  },
  {
   "cell_type": "code",
   "execution_count": 79,
   "metadata": {},
   "outputs": [
    {
     "name": "stdout",
     "output_type": "stream",
     "text": [
      "Estructura de la informacion:\n",
      "          timestamp  counter  eeg  attention  meditation  blinking\n",
      "0      1.732233e+09       39  -39          0           0         0\n",
      "1      1.732233e+09       40  -36          0           0         0\n",
      "2      1.732233e+09       41  -39          0           0         0\n",
      "3      1.732233e+09       42  -46          0           0         0\n",
      "4      1.732233e+09       43  -41          0           0         0\n",
      "...             ...      ...  ...        ...         ...       ...\n",
      "29864  1.732233e+09       35   16          4          63         0\n",
      "29865  1.732233e+09       36   29          4          63         0\n",
      "29866  1.732233e+09       37   42          4          63         0\n",
      "29867  1.732233e+09       38   51          4          63         0\n",
      "29868  1.732233e+09       39   41          4          63         0\n",
      "\n",
      "[29869 rows x 6 columns]\n"
     ]
    }
   ],
   "source": [
    "print('Estructura de la informacion:')\n",
    "print(deathmetal)"
   ]
  },
  {
   "cell_type": "code",
   "execution_count": 80,
   "metadata": {},
   "outputs": [
    {
     "name": "stdout",
     "output_type": "stream",
     "text": [
      "<class 'pandas.core.frame.DataFrame'>\n",
      "RangeIndex: 29869 entries, 0 to 29868\n",
      "Data columns (total 6 columns):\n",
      " #   Column      Non-Null Count  Dtype  \n",
      "---  ------      --------------  -----  \n",
      " 0   timestamp   29869 non-null  float64\n",
      " 1   counter     29869 non-null  int64  \n",
      " 2   eeg         29869 non-null  int64  \n",
      " 3   attention   29869 non-null  int64  \n",
      " 4   meditation  29869 non-null  int64  \n",
      " 5   blinking    29869 non-null  int64  \n",
      "dtypes: float64(1), int64(5)\n",
      "memory usage: 1.4 MB\n"
     ]
    }
   ],
   "source": [
    "deathmetal.info()"
   ]
  },
  {
   "cell_type": "code",
   "execution_count": 110,
   "metadata": {},
   "outputs": [
    {
     "data": {
      "text/html": [
       "<div>\n",
       "<style scoped>\n",
       "    .dataframe tbody tr th:only-of-type {\n",
       "        vertical-align: middle;\n",
       "    }\n",
       "\n",
       "    .dataframe tbody tr th {\n",
       "        vertical-align: top;\n",
       "    }\n",
       "\n",
       "    .dataframe thead th {\n",
       "        text-align: right;\n",
       "    }\n",
       "</style>\n",
       "<table border=\"1\" class=\"dataframe\">\n",
       "  <thead>\n",
       "    <tr style=\"text-align: right;\">\n",
       "      <th></th>\n",
       "      <th>timestamp</th>\n",
       "      <th>counter</th>\n",
       "      <th>eeg</th>\n",
       "      <th>attention</th>\n",
       "      <th>meditation</th>\n",
       "      <th>blinking</th>\n",
       "      <th>label</th>\n",
       "    </tr>\n",
       "  </thead>\n",
       "  <tbody>\n",
       "    <tr>\n",
       "      <th>count</th>\n",
       "      <td>2.986900e+04</td>\n",
       "      <td>29869.000000</td>\n",
       "      <td>29869.000000</td>\n",
       "      <td>29869.000000</td>\n",
       "      <td>29869.000000</td>\n",
       "      <td>29869.0</td>\n",
       "      <td>29869.0</td>\n",
       "    </tr>\n",
       "    <tr>\n",
       "      <th>mean</th>\n",
       "      <td>1.732233e+09</td>\n",
       "      <td>49.497506</td>\n",
       "      <td>29.764639</td>\n",
       "      <td>34.872811</td>\n",
       "      <td>55.215374</td>\n",
       "      <td>0.0</td>\n",
       "      <td>1.0</td>\n",
       "    </tr>\n",
       "    <tr>\n",
       "      <th>std</th>\n",
       "      <td>1.735425e+01</td>\n",
       "      <td>28.869548</td>\n",
       "      <td>55.645994</td>\n",
       "      <td>17.387864</td>\n",
       "      <td>27.649473</td>\n",
       "      <td>0.0</td>\n",
       "      <td>0.0</td>\n",
       "    </tr>\n",
       "    <tr>\n",
       "      <th>min</th>\n",
       "      <td>1.732233e+09</td>\n",
       "      <td>0.000000</td>\n",
       "      <td>-406.000000</td>\n",
       "      <td>0.000000</td>\n",
       "      <td>0.000000</td>\n",
       "      <td>0.0</td>\n",
       "      <td>1.0</td>\n",
       "    </tr>\n",
       "    <tr>\n",
       "      <th>25%</th>\n",
       "      <td>1.732233e+09</td>\n",
       "      <td>24.000000</td>\n",
       "      <td>9.000000</td>\n",
       "      <td>21.000000</td>\n",
       "      <td>35.000000</td>\n",
       "      <td>0.0</td>\n",
       "      <td>1.0</td>\n",
       "    </tr>\n",
       "    <tr>\n",
       "      <th>50%</th>\n",
       "      <td>1.732233e+09</td>\n",
       "      <td>49.000000</td>\n",
       "      <td>32.000000</td>\n",
       "      <td>37.000000</td>\n",
       "      <td>56.000000</td>\n",
       "      <td>0.0</td>\n",
       "      <td>1.0</td>\n",
       "    </tr>\n",
       "    <tr>\n",
       "      <th>75%</th>\n",
       "      <td>1.732233e+09</td>\n",
       "      <td>74.000000</td>\n",
       "      <td>52.000000</td>\n",
       "      <td>51.000000</td>\n",
       "      <td>75.000000</td>\n",
       "      <td>0.0</td>\n",
       "      <td>1.0</td>\n",
       "    </tr>\n",
       "    <tr>\n",
       "      <th>max</th>\n",
       "      <td>1.732233e+09</td>\n",
       "      <td>99.000000</td>\n",
       "      <td>620.000000</td>\n",
       "      <td>63.000000</td>\n",
       "      <td>100.000000</td>\n",
       "      <td>0.0</td>\n",
       "      <td>1.0</td>\n",
       "    </tr>\n",
       "  </tbody>\n",
       "</table>\n",
       "</div>"
      ],
      "text/plain": [
       "          timestamp       counter           eeg     attention    meditation  \\\n",
       "count  2.986900e+04  29869.000000  29869.000000  29869.000000  29869.000000   \n",
       "mean   1.732233e+09     49.497506     29.764639     34.872811     55.215374   \n",
       "std    1.735425e+01     28.869548     55.645994     17.387864     27.649473   \n",
       "min    1.732233e+09      0.000000   -406.000000      0.000000      0.000000   \n",
       "25%    1.732233e+09     24.000000      9.000000     21.000000     35.000000   \n",
       "50%    1.732233e+09     49.000000     32.000000     37.000000     56.000000   \n",
       "75%    1.732233e+09     74.000000     52.000000     51.000000     75.000000   \n",
       "max    1.732233e+09     99.000000    620.000000     63.000000    100.000000   \n",
       "\n",
       "       blinking    label  \n",
       "count   29869.0  29869.0  \n",
       "mean        0.0      1.0  \n",
       "std         0.0      0.0  \n",
       "min         0.0      1.0  \n",
       "25%         0.0      1.0  \n",
       "50%         0.0      1.0  \n",
       "75%         0.0      1.0  \n",
       "max         0.0      1.0  "
      ]
     },
     "execution_count": 110,
     "metadata": {},
     "output_type": "execute_result"
    }
   ],
   "source": [
    "deathmetal.describe()"
   ]
  },
  {
   "cell_type": "code",
   "execution_count": 82,
   "metadata": {},
   "outputs": [
    {
     "name": "stdout",
     "output_type": "stream",
     "text": [
      "[-39. -36. -39. ...  42.  51.  41.]\n"
     ]
    }
   ],
   "source": [
    "dm = deathmetal.values\n",
    "eeg_dm = dm[:,2]\n",
    "\n",
    "print(eeg_dm)"
   ]
  },
  {
   "cell_type": "code",
   "execution_count": 83,
   "metadata": {},
   "outputs": [
    {
     "name": "stdout",
     "output_type": "stream",
     "text": [
      "[39. 40. 41. ... 37. 38. 39.]\n"
     ]
    }
   ],
   "source": [
    "counter_dm = dm[:,1]\n",
    "print(counter_dm)"
   ]
  },
  {
   "cell_type": "code",
   "execution_count": 84,
   "metadata": {},
   "outputs": [
    {
     "name": "stdout",
     "output_type": "stream",
     "text": [
      "False\n"
     ]
    }
   ],
   "source": [
    "print(es_secuencial(counter_dm))"
   ]
  },
  {
   "cell_type": "markdown",
   "metadata": {},
   "source": [
    "Por lo tanto se observa que la frecuencia de sampleo del dataset deathmetal es de 300 Hz"
   ]
  },
  {
   "cell_type": "code",
   "execution_count": 85,
   "metadata": {},
   "outputs": [
    {
     "data": {
      "image/png": "[encoded data removed]",
      "text/plain": [
       "<Figure size 640x480 with 1 Axes>"
      ]
     },
     "metadata": {},
     "output_type": "display_data"
    }
   ],
   "source": [
    "plt.plot(eeg_dm,'r', label='EEG')\n",
    "plt.xlabel('t');\n",
    "plt.ylabel('eeg(t)');\n",
    "plt.title(r'Signal EEG deathmetal')     # r'' representa un raw string que no tiene caracteres especiales\n",
    "plt.ylim([-1000, 1000]);\n",
    "plt.xlim([0,len(eeg_dm)])\n",
    "plt.show()\n"
   ]
  },
  {
   "cell_type": "markdown",
   "metadata": {},
   "source": [
    "### Analizamos el dataset bethoven"
   ]
  },
  {
   "cell_type": "code",
   "execution_count": 86,
   "metadata": {},
   "outputs": [],
   "source": [
    "bethoven = pd.read_csv('data/dataset_2024/bethoven.dat', delimiter=' ', names = ['timestamp','counter','eeg','attention','meditation','blinking'])"
   ]
  },
  {
   "cell_type": "code",
   "execution_count": 87,
   "metadata": {},
   "outputs": [
    {
     "name": "stdout",
     "output_type": "stream",
     "text": [
      "Estructura de la informacion:\n",
      "          timestamp  counter  eeg  attention  meditation  blinking\n",
      "0      1.732233e+09       49  -10          0           0         0\n",
      "1      1.732233e+09       50   -2          0           0         0\n",
      "2      1.732233e+09       51   -4          0           0         0\n",
      "3      1.732233e+09       52  -12          0           0         0\n",
      "4      1.732233e+09       53  -13          0           0         0\n",
      "...             ...      ...  ...        ...         ...       ...\n",
      "30845  1.732233e+09       34   38         48          48         0\n",
      "30846  1.732233e+09       35   33         48          48         0\n",
      "30847  1.732233e+09       36   43         48          48         0\n",
      "30848  1.732233e+09       37   65         48          48         0\n",
      "30849  1.732233e+09       38   70         48          48         0\n",
      "\n",
      "[30850 rows x 6 columns]\n"
     ]
    }
   ],
   "source": [
    "print('Estructura de la informacion:')\n",
    "print(bethoven)"
   ]
  },
  {
   "cell_type": "code",
   "execution_count": 88,
   "metadata": {},
   "outputs": [
    {
     "name": "stdout",
     "output_type": "stream",
     "text": [
      "<class 'pandas.core.frame.DataFrame'>\n",
      "RangeIndex: 30850 entries, 0 to 30849\n",
      "Data columns (total 6 columns):\n",
      " #   Column      Non-Null Count  Dtype  \n",
      "---  ------      --------------  -----  \n",
      " 0   timestamp   30850 non-null  float64\n",
      " 1   counter     30850 non-null  int64  \n",
      " 2   eeg         30850 non-null  int64  \n",
      " 3   attention   30850 non-null  int64  \n",
      " 4   meditation  30850 non-null  int64  \n",
      " 5   blinking    30850 non-null  int64  \n",
      "dtypes: float64(1), int64(5)\n",
      "memory usage: 1.4 MB\n"
     ]
    }
   ],
   "source": [
    "bethoven.info()"
   ]
  },
  {
   "cell_type": "code",
   "execution_count": 89,
   "metadata": {},
   "outputs": [
    {
     "data": {
      "text/html": [
       "<div>\n",
       "<style scoped>\n",
       "    .dataframe tbody tr th:only-of-type {\n",
       "        vertical-align: middle;\n",
       "    }\n",
       "\n",
       "    .dataframe tbody tr th {\n",
       "        vertical-align: top;\n",
       "    }\n",
       "\n",
       "    .dataframe thead th {\n",
       "        text-align: right;\n",
       "    }\n",
       "</style>\n",
       "<table border=\"1\" class=\"dataframe\">\n",
       "  <thead>\n",
       "    <tr style=\"text-align: right;\">\n",
       "      <th></th>\n",
       "      <th>timestamp</th>\n",
       "      <th>counter</th>\n",
       "      <th>eeg</th>\n",
       "      <th>attention</th>\n",
       "      <th>meditation</th>\n",
       "      <th>blinking</th>\n",
       "    </tr>\n",
       "  </thead>\n",
       "  <tbody>\n",
       "    <tr>\n",
       "      <th>count</th>\n",
       "      <td>3.085000e+04</td>\n",
       "      <td>30850.000000</td>\n",
       "      <td>30850.000000</td>\n",
       "      <td>30850.000000</td>\n",
       "      <td>30850.000000</td>\n",
       "      <td>30850.0</td>\n",
       "    </tr>\n",
       "    <tr>\n",
       "      <th>mean</th>\n",
       "      <td>1.732233e+09</td>\n",
       "      <td>49.491572</td>\n",
       "      <td>29.794457</td>\n",
       "      <td>60.988266</td>\n",
       "      <td>50.831248</td>\n",
       "      <td>0.0</td>\n",
       "    </tr>\n",
       "    <tr>\n",
       "      <th>std</th>\n",
       "      <td>1.732204e+01</td>\n",
       "      <td>28.873122</td>\n",
       "      <td>42.153701</td>\n",
       "      <td>21.286069</td>\n",
       "      <td>19.291509</td>\n",
       "      <td>0.0</td>\n",
       "    </tr>\n",
       "    <tr>\n",
       "      <th>min</th>\n",
       "      <td>1.732233e+09</td>\n",
       "      <td>0.000000</td>\n",
       "      <td>-446.000000</td>\n",
       "      <td>0.000000</td>\n",
       "      <td>0.000000</td>\n",
       "      <td>0.0</td>\n",
       "    </tr>\n",
       "    <tr>\n",
       "      <th>25%</th>\n",
       "      <td>1.732233e+09</td>\n",
       "      <td>24.000000</td>\n",
       "      <td>9.000000</td>\n",
       "      <td>50.000000</td>\n",
       "      <td>43.000000</td>\n",
       "      <td>0.0</td>\n",
       "    </tr>\n",
       "    <tr>\n",
       "      <th>50%</th>\n",
       "      <td>1.732233e+09</td>\n",
       "      <td>50.000000</td>\n",
       "      <td>32.000000</td>\n",
       "      <td>61.000000</td>\n",
       "      <td>53.000000</td>\n",
       "      <td>0.0</td>\n",
       "    </tr>\n",
       "    <tr>\n",
       "      <th>75%</th>\n",
       "      <td>1.732233e+09</td>\n",
       "      <td>74.000000</td>\n",
       "      <td>51.000000</td>\n",
       "      <td>77.000000</td>\n",
       "      <td>60.000000</td>\n",
       "      <td>0.0</td>\n",
       "    </tr>\n",
       "    <tr>\n",
       "      <th>max</th>\n",
       "      <td>1.732233e+09</td>\n",
       "      <td>99.000000</td>\n",
       "      <td>605.000000</td>\n",
       "      <td>100.000000</td>\n",
       "      <td>88.000000</td>\n",
       "      <td>0.0</td>\n",
       "    </tr>\n",
       "  </tbody>\n",
       "</table>\n",
       "</div>"
      ],
      "text/plain": [
       "          timestamp       counter           eeg     attention    meditation  \\\n",
       "count  3.085000e+04  30850.000000  30850.000000  30850.000000  30850.000000   \n",
       "mean   1.732233e+09     49.491572     29.794457     60.988266     50.831248   \n",
       "std    1.732204e+01     28.873122     42.153701     21.286069     19.291509   \n",
       "min    1.732233e+09      0.000000   -446.000000      0.000000      0.000000   \n",
       "25%    1.732233e+09     24.000000      9.000000     50.000000     43.000000   \n",
       "50%    1.732233e+09     50.000000     32.000000     61.000000     53.000000   \n",
       "75%    1.732233e+09     74.000000     51.000000     77.000000     60.000000   \n",
       "max    1.732233e+09     99.000000    605.000000    100.000000     88.000000   \n",
       "\n",
       "       blinking  \n",
       "count   30850.0  \n",
       "mean        0.0  \n",
       "std         0.0  \n",
       "min         0.0  \n",
       "25%         0.0  \n",
       "50%         0.0  \n",
       "75%         0.0  \n",
       "max         0.0  "
      ]
     },
     "execution_count": 89,
     "metadata": {},
     "output_type": "execute_result"
    }
   ],
   "source": [
    "bethoven.describe()"
   ]
  },
  {
   "cell_type": "code",
   "execution_count": 90,
   "metadata": {},
   "outputs": [
    {
     "name": "stdout",
     "output_type": "stream",
     "text": [
      "[-10.  -2.  -4. ...  43.  65.  70.]\n"
     ]
    }
   ],
   "source": [
    "bt = bethoven.values\n",
    "eeg_bt = bt[:,2]\n",
    "\n",
    "print(eeg_bt)"
   ]
  },
  {
   "cell_type": "code",
   "execution_count": 91,
   "metadata": {},
   "outputs": [
    {
     "name": "stdout",
     "output_type": "stream",
     "text": [
      "[49. 50. 51. ... 36. 37. 38.]\n"
     ]
    }
   ],
   "source": [
    "counter_bt = bt[:,1]\n",
    "print(counter_bt)"
   ]
  },
  {
   "cell_type": "code",
   "execution_count": 92,
   "metadata": {},
   "outputs": [
    {
     "name": "stdout",
     "output_type": "stream",
     "text": [
      "False\n"
     ]
    }
   ],
   "source": [
    "print(es_secuencial(counter_bt))"
   ]
  },
  {
   "cell_type": "code",
   "execution_count": 93,
   "metadata": {},
   "outputs": [
    {
     "data": {
      "image/png": "[encoded data removed]",
      "text/plain": [
       "<Figure size 640x480 with 1 Axes>"
      ]
     },
     "metadata": {},
     "output_type": "display_data"
    }
   ],
   "source": [
    "plt.plot(eeg_bt,'r', label='EEG')\n",
    "plt.xlabel('t');\n",
    "plt.ylabel('eeg(t)');\n",
    "plt.title(r'Signal EEG bethoven')     # r'' representa un raw string que no tiene caracteres especiales\n",
    "plt.ylim([-1000, 1000]);\n",
    "plt.xlim([0,len(eeg_bt)])\n",
    "plt.show()"
   ]
  },
  {
   "cell_type": "markdown",
   "metadata": {},
   "source": [
    "## Preprocesamiento y clasificación"
   ]
  },
  {
   "cell_type": "code",
   "execution_count": 94,
   "metadata": {},
   "outputs": [],
   "source": [
    "from sklearn.model_selection import train_test_split\n",
    "from sklearn.preprocessing import StandardScaler\n",
    "from sklearn.ensemble import RandomForestClassifier\n",
    "from sklearn.svm import SVC\n",
    "from sklearn.linear_model import LogisticRegression\n",
    "from scipy.signal import welch\n",
    "from scipy.stats import entropy\n",
    "from sklearn.metrics import confusion_matrix\n",
    "from sklearn.metrics import classification_report, confusion_matrix"
   ]
  },
  {
   "cell_type": "code",
   "execution_count": 95,
   "metadata": {},
   "outputs": [],
   "source": [
    "# Crear etiquetas para las dos clases\n",
    "bethoven['label'] = 0  # Beethoven\n",
    "deathmetal['label'] = 1  # Death Metal"
   ]
  },
  {
   "cell_type": "code",
   "execution_count": 96,
   "metadata": {},
   "outputs": [],
   "source": [
    "# Concatenar los datos\n",
    "data = pd.concat([bethoven, deathmetal], ignore_index=True)\n",
    "\n",
    "# Completar valores faltantes en la columna eeg usando interpolación\n",
    "data['eeg'] = data['eeg'].interpolate()\n"
   ]
  },
  {
   "cell_type": "code",
   "execution_count": 97,
   "metadata": {},
   "outputs": [],
   "source": [
    "# Extraer características de la señal EEG\n",
    "def extract_features(signal, sampling_rate=512):\n",
    "    \"\"\"\n",
    "    Extraer características de señal EEG, como media, desviación estándar, skewness, kurtosis\n",
    "    energía y frecuencia dominante utilizando la transformada de Welch.\n",
    "    \"\"\"\n",
    "    features = {}\n",
    "    features['mean'] = np.mean(signal)\n",
    "    features['std'] = np.std(signal)\n",
    "    features['skewness'] = np.mean((signal - np.mean(signal))**3) / np.std(signal)**3\n",
    "    features['kurtosis'] = np.mean((signal - np.mean(signal))**4) / np.std(signal)**4\n",
    "    features['energy'] = np.sum(signal ** 2) / len(signal)\n",
    "    \n",
    "    # Transformada de Welch para obtener la frecuencia dominante (PSD)\n",
    "    freqs, psd = welch(signal, fs=sampling_rate)\n",
    "    features['freq_dominant'] = freqs[np.argmax(psd)]\n",
    "    \n",
    "    # Entropía espectral\n",
    "    features['spectral_entropy'] = entropy(psd / np.sum(psd))\n",
    "    \n",
    "    # Energía por bandas de frecuencia\n",
    "    features['delta_power'] = np.sum(psd[(freqs >= 0.5) & (freqs < 4)])\n",
    "    features['theta_power'] = np.sum(psd[(freqs >= 4) & (freqs < 8)])\n",
    "    features['alpha_power'] = np.sum(psd[(freqs >= 8) & (freqs < 12)])\n",
    "    features['beta_power'] = np.sum(psd[(freqs >= 12) & (freqs < 30)])\n",
    "    features['gamma_power'] = np.sum(psd[(freqs >= 30)])\n",
    "    \n",
    "    return features"
   ]
  },
  {
   "cell_type": "code",
   "execution_count": 98,
   "metadata": {},
   "outputs": [],
   "source": [
    "# Aplicar la extracción de características por ventanas deslizantes\n",
    "#window_size = 512  # Tamaño de la ventana en muestras (1 segundo si fs=512 Hz)\n",
    "window_size = 265  # Tamaño de la ventana en muestras (0.5 segundo si fs=512 Hz)\n",
    "#step_size = 256  # Superposición del 50%\n",
    "step_size = 5  # Superposición del 1%\n",
    "sampling_rate = 512  # Frecuencia de muestreo\n",
    "\n",
    "rows = []\n",
    "for label, group in data.groupby('label'):\n",
    "    eeg_signal = group['eeg'].to_numpy()\n",
    "    for start in range(0, len(eeg_signal) - window_size, step_size):\n",
    "        window = eeg_signal[start:start + window_size]\n",
    "        features = extract_features(window, sampling_rate)\n",
    "        features['label'] = label\n",
    "        rows.append(features)"
   ]
  },
  {
   "cell_type": "code",
   "execution_count": 99,
   "metadata": {},
   "outputs": [],
   "source": [
    "# Crear un DataFrame con las características extraídas\n",
    "features_df = pd.DataFrame(rows)\n",
    "\n",
    "# Separar en conjunto de entrenamiento y prueba\n",
    "X = features_df.drop(columns=['label'])\n",
    "y = features_df['label']\n",
    "X_train, X_test, y_train, y_test = train_test_split(X, y, test_size=0.5, random_state=42, stratify=y)\n",
    "\n",
    "# Normalizar las características\n",
    "scaler = StandardScaler()\n",
    "X_train = scaler.fit_transform(X_train)\n",
    "X_test = scaler.transform(X_test)"
   ]
  },
  {
   "cell_type": "code",
   "execution_count": 100,
   "metadata": {},
   "outputs": [
    {
     "name": "stdout",
     "output_type": "stream",
     "text": [
      "              precision    recall  f1-score   support\n",
      "\n",
      "           0       0.97      0.96      0.97      3059\n",
      "           1       0.96      0.97      0.97      2960\n",
      "\n",
      "    accuracy                           0.97      6019\n",
      "   macro avg       0.97      0.97      0.97      6019\n",
      "weighted avg       0.97      0.97      0.97      6019\n",
      "\n"
     ]
    }
   ],
   "source": [
    "# Clasificación con RandomForest\n",
    "clf = RandomForestClassifier(random_state=42)\n",
    "clf.fit(X_train, y_train)\n",
    "\n",
    "# Evaluar el modelo\n",
    "y_pred = clf.predict(X_test)\n",
    "print(classification_report(y_test, y_pred))"
   ]
  },
  {
   "cell_type": "code",
   "execution_count": 102,
   "metadata": {},
   "outputs": [
    {
     "name": "stdout",
     "output_type": "stream",
     "text": [
      "Mejores hiperparámetros: {'criterion': 'entropy', 'max_depth': None, 'max_features': 'sqrt', 'min_samples_leaf': 1, 'min_samples_split': 2, 'n_estimators': 500}\n",
      "Mejor accuracy en validación cruzada: 0.9543112042706081\n"
     ]
    }
   ],
   "source": [
    "from sklearn.ensemble import RandomForestClassifier\n",
    "from sklearn.model_selection import GridSearchCV\n",
    "\n",
    "# Definir el grid de hiperparámetros\n",
    "param_grid = {\n",
    "    'n_estimators': [100, 300, 500],\n",
    "    'max_depth': [None, 10, 20, 30],\n",
    "    'min_samples_split': [2, 6, 10],\n",
    "    'min_samples_leaf': [1, 4, 8],\n",
    "    'max_features': ['sqrt', 'log2', None],\n",
    "    'criterion': ['gini', 'entropy']\n",
    "}\n",
    "\n",
    "# Búsqueda en GridSearchCV\n",
    "grid_search = GridSearchCV(estimator=clf, param_grid=param_grid, cv=5, scoring='accuracy', n_jobs=-1)\n",
    "grid_search.fit(X_train, y_train)\n",
    "\n",
    "# Mejor modelo\n",
    "print(\"Mejores hiperparámetros:\", grid_search.best_params_)\n",
    "print(\"Mejor accuracy en validación cruzada:\", grid_search.best_score_)"
   ]
  },
  {
   "cell_type": "code",
   "execution_count": 60,
   "metadata": {},
   "outputs": [
    {
     "name": "stdout",
     "output_type": "stream",
     "text": [
      "\n",
      "Resultados con SVM:\n",
      "              precision    recall  f1-score   support\n",
      "\n",
      "           0       0.66      0.70      0.68      3059\n",
      "           1       0.67      0.63      0.65      2960\n",
      "\n",
      "    accuracy                           0.66      6019\n",
      "   macro avg       0.66      0.66      0.66      6019\n",
      "weighted avg       0.66      0.66      0.66      6019\n",
      "\n"
     ]
    }
   ],
   "source": [
    "# Clasificación con SVM\n",
    "svm_clf = SVC(kernel='poly', C=10, gamma='scale', random_state=42)\n",
    "svm_clf.fit(X_train, y_train)\n",
    "\n",
    "# Evaluar el modelo SVM\n",
    "y_pred_svm = svm_clf.predict(X_test)\n",
    "print(\"\\nResultados con SVM:\")\n",
    "print(classification_report(y_test, y_pred_svm))\n"
   ]
  },
  {
   "cell_type": "code",
   "execution_count": null,
   "metadata": {},
   "outputs": [
    {
     "name": "stdout",
     "output_type": "stream",
     "text": [
      "Mejores hiperparámetros: {'C': 100, 'gamma': 0.01, 'kernel': 'rbf'}\n",
      "Mejor accuracy en validación cruzada: 0.6436299892572004\n"
     ]
    }
   ],
   "source": [
    "from sklearn.svm import SVC\n",
    "\n",
    "# Definir el grid de hiperparámetros\n",
    "param_grid = {\n",
    "    'C': [0.1, 1, 10, 100],\n",
    "    'gamma': [0.001, 0.01],\n",
    "    'kernel': ['rbf']\n",
    "}\n",
    "\n",
    "# Búsqueda en GridSearchCV\n",
    "grid_search = GridSearchCV(estimator=svm_clf, param_grid=param_grid, cv=5, scoring='accuracy', n_jobs=-1)\n",
    "grid_search.fit(X_train, y_train)\n",
    "\n",
    "# Mejor modelo\n",
    "print(\"Mejores hiperparámetros:\", grid_search.best_params_)\n",
    "print(\"Mejor accuracy en validación cruzada:\", grid_search.best_score_)\n",
    "\n",
    "# Evaluar el modelo en el conjunto de prueba\n",
    "best_svm = grid_search.best_estimator_\n",
    "y_pred = best_svm.predict(X_test)\n"
   ]
  },
  {
   "cell_type": "code",
   "execution_count": 63,
   "metadata": {},
   "outputs": [
    {
     "name": "stdout",
     "output_type": "stream",
     "text": [
      "\n",
      "Resultados con Regresión Logística:\n",
      "              precision    recall  f1-score   support\n",
      "\n",
      "           0       0.54      0.64      0.58      3059\n",
      "           1       0.54      0.43      0.48      2960\n",
      "\n",
      "    accuracy                           0.54      6019\n",
      "   macro avg       0.54      0.54      0.53      6019\n",
      "weighted avg       0.54      0.54      0.53      6019\n",
      "\n"
     ]
    }
   ],
   "source": [
    "# Clasificación con Regresión Logística\n",
    "\n",
    "logreg_clf = LogisticRegression(random_state=42, max_iter=1000,)\n",
    "logreg_clf.fit(X_train, y_train)\n",
    "\n",
    "# Evaluar el modelo de Regresión Logística\n",
    "y_pred_logreg = logreg_clf.predict(X_test)\n",
    "print(\"\\nResultados con Regresión Logística:\")\n",
    "print(classification_report(y_test, y_pred_logreg))"
   ]
  },
  {
   "cell_type": "code",
   "execution_count": 64,
   "metadata": {},
   "outputs": [
    {
     "name": "stdout",
     "output_type": "stream",
     "text": [
      "Mejores hiperparámetros: {'C': 0.01, 'class_weight': None, 'max_iter': 100, 'penalty': 'l1', 'solver': 'saga'}\n",
      "Mejor accuracy en validación cruzada: 0.5467713606349575\n",
      "\n",
      "Reporte de clasificación:\n",
      "              precision    recall  f1-score   support\n",
      "\n",
      "           0       0.54      0.76      0.63      3059\n",
      "           1       0.56      0.32      0.41      2960\n",
      "\n",
      "    accuracy                           0.54      6019\n",
      "   macro avg       0.55      0.54      0.52      6019\n",
      "weighted avg       0.55      0.54      0.52      6019\n",
      "\n"
     ]
    },
    {
     "name": "stderr",
     "output_type": "stream",
     "text": [
      "c:\\Users\\arnic\\Desktop\\Ariel\\MCD\\09 - Datos espaciales y cientificos\\Datos cientificos\\python-scientific\\ps\\Lib\\site-packages\\sklearn\\model_selection\\_validation.py:540: FitFailedWarning: \n",
      "360 fits failed out of a total of 1080.\n",
      "The score on these train-test partitions for these parameters will be set to nan.\n",
      "If these failures are not expected, you can try to debug them by setting error_score='raise'.\n",
      "\n",
      "Below are more details about the failures:\n",
      "--------------------------------------------------------------------------------\n",
      "180 fits failed with the following error:\n",
      "Traceback (most recent call last):\n",
      "  File \"c:\\Users\\arnic\\Desktop\\Ariel\\MCD\\09 - Datos espaciales y cientificos\\Datos cientificos\\python-scientific\\ps\\Lib\\site-packages\\sklearn\\model_selection\\_validation.py\", line 888, in _fit_and_score\n",
      "    estimator.fit(X_train, y_train, **fit_params)\n",
      "    ~~~~~~~~~~~~~^^^^^^^^^^^^^^^^^^^^^^^^^^^^^^^^\n",
      "  File \"c:\\Users\\arnic\\Desktop\\Ariel\\MCD\\09 - Datos espaciales y cientificos\\Datos cientificos\\python-scientific\\ps\\Lib\\site-packages\\sklearn\\base.py\", line 1473, in wrapper\n",
      "    return fit_method(estimator, *args, **kwargs)\n",
      "  File \"c:\\Users\\arnic\\Desktop\\Ariel\\MCD\\09 - Datos espaciales y cientificos\\Datos cientificos\\python-scientific\\ps\\Lib\\site-packages\\sklearn\\linear_model\\_logistic.py\", line 1194, in fit\n",
      "    solver = _check_solver(self.solver, self.penalty, self.dual)\n",
      "  File \"c:\\Users\\arnic\\Desktop\\Ariel\\MCD\\09 - Datos espaciales y cientificos\\Datos cientificos\\python-scientific\\ps\\Lib\\site-packages\\sklearn\\linear_model\\_logistic.py\", line 75, in _check_solver\n",
      "    raise ValueError(\n",
      "        f\"Only 'saga' solver supports elasticnet penalty, got solver={solver}.\"\n",
      "    )\n",
      "ValueError: Only 'saga' solver supports elasticnet penalty, got solver=liblinear.\n",
      "\n",
      "--------------------------------------------------------------------------------\n",
      "180 fits failed with the following error:\n",
      "Traceback (most recent call last):\n",
      "  File \"c:\\Users\\arnic\\Desktop\\Ariel\\MCD\\09 - Datos espaciales y cientificos\\Datos cientificos\\python-scientific\\ps\\Lib\\site-packages\\sklearn\\model_selection\\_validation.py\", line 888, in _fit_and_score\n",
      "    estimator.fit(X_train, y_train, **fit_params)\n",
      "    ~~~~~~~~~~~~~^^^^^^^^^^^^^^^^^^^^^^^^^^^^^^^^\n",
      "  File \"c:\\Users\\arnic\\Desktop\\Ariel\\MCD\\09 - Datos espaciales y cientificos\\Datos cientificos\\python-scientific\\ps\\Lib\\site-packages\\sklearn\\base.py\", line 1473, in wrapper\n",
      "    return fit_method(estimator, *args, **kwargs)\n",
      "  File \"c:\\Users\\arnic\\Desktop\\Ariel\\MCD\\09 - Datos espaciales y cientificos\\Datos cientificos\\python-scientific\\ps\\Lib\\site-packages\\sklearn\\linear_model\\_logistic.py\", line 1204, in fit\n",
      "    raise ValueError(\"l1_ratio must be specified when penalty is elasticnet.\")\n",
      "ValueError: l1_ratio must be specified when penalty is elasticnet.\n",
      "\n",
      "  warnings.warn(some_fits_failed_message, FitFailedWarning)\n",
      "c:\\Users\\arnic\\Desktop\\Ariel\\MCD\\09 - Datos espaciales y cientificos\\Datos cientificos\\python-scientific\\ps\\Lib\\site-packages\\sklearn\\model_selection\\_search.py:1103: UserWarning: One or more of the test scores are non-finite: [0.50805779 0.50805779 0.52550393 0.52965952        nan        nan\n",
      " 0.50805779 0.50805779 0.52550393 0.52965952        nan        nan\n",
      " 0.50805779 0.50805779 0.52550393 0.52965952        nan        nan\n",
      " 0.50805779 0.50489902 0.51653286 0.51686509        nan        nan\n",
      " 0.50805779 0.50489902 0.51653286 0.51686509        nan        nan\n",
      " 0.50805779 0.50489902 0.51653286 0.51686509        nan        nan\n",
      " 0.52733352 0.54677136 0.52949133 0.52982342        nan        nan\n",
      " 0.52733352 0.54677136 0.52949133 0.52982342        nan        nan\n",
      " 0.52733352 0.54677136 0.52949133 0.52982342        nan        nan\n",
      " 0.52583809 0.52733338 0.52749784 0.52749784        nan        nan\n",
      " 0.52583809 0.52733338 0.52749784 0.52749784        nan        nan\n",
      " 0.52583809 0.52733338 0.52749784 0.52749784        nan        nan\n",
      " 0.53447569 0.53032162 0.53530708 0.53480874        nan        nan\n",
      " 0.53447569 0.53032162 0.53530708 0.53497486        nan        nan\n",
      " 0.53447569 0.53032162 0.53530708 0.53497486        nan        nan\n",
      " 0.53646946 0.53613696 0.54128673 0.54095451        nan        nan\n",
      " 0.53646946 0.53630307 0.54128673 0.54112062        nan        nan\n",
      " 0.53646946 0.53630307 0.54128673 0.54112062        nan        nan\n",
      " 0.53862975 0.53995811 0.53945977 0.53862906        nan        nan\n",
      " 0.53862975 0.53763294 0.53945977 0.53945977        nan        nan\n",
      " 0.53862975 0.53746683 0.53945977 0.53945977        nan        nan\n",
      " 0.53962505 0.54062173 0.54012298 0.54095396        nan        nan\n",
      " 0.53962505 0.53979089 0.54012298 0.53995686        nan        nan\n",
      " 0.53962505 0.53962478 0.54012298 0.53995686        nan        nan\n",
      " 0.53813031 0.53729975 0.53779809 0.53729961        nan        nan\n",
      " 0.53813031 0.5379642  0.53779809 0.53779809        nan        nan\n",
      " 0.53813031 0.53779809 0.53779809 0.5379642         nan        nan\n",
      " 0.53862768 0.54028964 0.53879393 0.5397913         nan        nan\n",
      " 0.53862768 0.5382956  0.53879393 0.5382956         nan        nan\n",
      " 0.53862768 0.53862768 0.53879393 0.5382956         nan        nan\n",
      " 0.5379642  0.53763183 0.53779809 0.53746572        nan        nan\n",
      " 0.5379642  0.53813031 0.53779809 0.53813031        nan        nan\n",
      " 0.5379642  0.53813031 0.53779809 0.53813031        nan        nan\n",
      " 0.53929214 0.54062187 0.53929214 0.54062187        nan        nan\n",
      " 0.53929214 0.53912602 0.53929214 0.53929214        nan        nan\n",
      " 0.53929214 0.53912602 0.53929214 0.53912602        nan        nan]\n",
      "  warnings.warn(\n"
     ]
    }
   ],
   "source": [
    "# Definir el grid de hiperparámetros\n",
    "param_grid = {\n",
    "    'C': [0.001, 0.01, 0.1, 1, 10, 100],\n",
    "    'penalty': ['l1', 'l2', 'elasticnet'],\n",
    "    'solver': ['liblinear', 'saga'],  # 'saga' soporta l1, l2 y elasticnet\n",
    "    'class_weight': [None, 'balanced'],\n",
    "    'max_iter': [100, 200, 500],\n",
    "}\n",
    "\n",
    "# Configurar la búsqueda en GridSearchCV\n",
    "grid_search = GridSearchCV(estimator=logreg_clf, param_grid=param_grid, cv=5, scoring='accuracy', n_jobs=-1)\n",
    "grid_search.fit(X_train, y_train)\n",
    "\n",
    "# Mejor modelo\n",
    "print(\"Mejores hiperparámetros:\", grid_search.best_params_)\n",
    "print(\"Mejor accuracy en validación cruzada:\", grid_search.best_score_)\n",
    "\n",
    "# Evaluar el modelo en el conjunto de prueba\n",
    "best_log_reg = grid_search.best_estimator_\n",
    "y_pred = best_log_reg.predict(X_test)\n",
    "\n",
    "print(\"\\nReporte de clasificación:\")\n",
    "print(classification_report(y_test, y_pred))"
   ]
  }
 ],
 "metadata": {
  "kernelspec": {
   "display_name": "ps",
   "language": "python",
   "name": "python3"
  },
  "language_info": {
   "codemirror_mode": {
    "name": "ipython",
    "version": 3
   },
   "file_extension": ".py",
   "mimetype": "text/x-python",
   "name": "python",
   "nbconvert_exporter": "python",
   "pygments_lexer": "ipython3",
   "version": "3.13.0"
  }
 },
 "nbformat": 4,
 "nbformat_minor": 2
}
